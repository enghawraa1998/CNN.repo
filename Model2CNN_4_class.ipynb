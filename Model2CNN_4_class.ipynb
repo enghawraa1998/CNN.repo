{
  "nbformat": 4,
  "nbformat_minor": 0,
  "metadata": {
    "colab": {
      "provenance": [],
      "toc_visible": true,
      "include_colab_link": true
    },
    "kernelspec": {
      "name": "python3",
      "display_name": "Python 3"
    },
    "accelerator": "GPU"
  },
  "cells": [
    {
      "cell_type": "markdown",
      "metadata": {
        "id": "view-in-github",
        "colab_type": "text"
      },
      "source": [
        "<a href=\"https://colab.research.google.com/github/enghawraa1998/CNN.repo/blob/main/Model2CNN_4_class.ipynb\" target=\"_parent\"><img src=\"https://colab.research.google.com/assets/colab-badge.svg\" alt=\"Open In Colab\"/></a>"
      ]
    },
    {
      "cell_type": "markdown",
      "metadata": {
        "id": "kxomVJNs0j51"
      },
      "source": [
        "# Environment setup"
      ]
    },
    {
      "cell_type": "code",
      "source": [
        "!pip install 'h5py==2.10.0' --force-reinstall"
      ],
      "metadata": {
        "colab": {
          "base_uri": "https://localhost:8080/",
          "height": 574
        },
        "id": "MgH-VtalyFxS",
        "outputId": "01c778e2-2385-4705-dcd0-465784d14992"
      },
      "execution_count": null,
      "outputs": [
        {
          "output_type": "stream",
          "name": "stdout",
          "text": [
            "Looking in indexes: https://pypi.org/simple, https://us-python.pkg.dev/colab-wheels/public/simple/\n",
            "Collecting h5py==2.10.0\n",
            "  Downloading h5py-2.10.0-cp38-cp38-manylinux1_x86_64.whl (2.9 MB)\n",
            "\u001b[K     |████████████████████████████████| 2.9 MB 16.3 MB/s \n",
            "\u001b[?25hCollecting six\n",
            "  Downloading six-1.16.0-py2.py3-none-any.whl (11 kB)\n",
            "Collecting numpy>=1.7\n",
            "  Downloading numpy-1.23.5-cp38-cp38-manylinux_2_17_x86_64.manylinux2014_x86_64.whl (17.1 MB)\n",
            "\u001b[K     |████████████████████████████████| 17.1 MB 19 kB/s \n",
            "\u001b[?25hInstalling collected packages: six, numpy, h5py\n",
            "  Attempting uninstall: six\n",
            "    Found existing installation: six 1.15.0\n",
            "    Uninstalling six-1.15.0:\n",
            "      Successfully uninstalled six-1.15.0\n",
            "  Attempting uninstall: numpy\n",
            "    Found existing installation: numpy 1.21.6\n",
            "    Uninstalling numpy-1.21.6:\n",
            "      Successfully uninstalled numpy-1.21.6\n",
            "  Attempting uninstall: h5py\n",
            "    Found existing installation: h5py 3.1.0\n",
            "    Uninstalling h5py-3.1.0:\n",
            "      Successfully uninstalled h5py-3.1.0\n",
            "\u001b[31mERROR: pip's dependency resolver does not currently take into account all the packages that are installed. This behaviour is the source of the following dependency conflicts.\n",
            "ipython 7.9.0 requires jedi>=0.10, which is not installed.\n",
            "scipy 1.7.3 requires numpy<1.23.0,>=1.16.5, but you have numpy 1.23.5 which is incompatible.\u001b[0m\n",
            "Successfully installed h5py-2.10.0 numpy-1.23.5 six-1.16.0\n"
          ]
        },
        {
          "output_type": "display_data",
          "data": {
            "application/vnd.colab-display-data+json": {
              "pip_warning": {
                "packages": [
                  "numpy",
                  "six"
                ]
              }
            }
          },
          "metadata": {}
        }
      ]
    },
    {
      "cell_type": "code",
      "metadata": {
        "id": "QxvRGmwLzQKm",
        "colab": {
          "base_uri": "https://localhost:8080/"
        },
        "outputId": "347ae8b8-a621-4ce3-cce2-07d00c7f4dd5"
      },
      "source": [
        "# Connect to Google Drive\n",
        "\n",
        "from google.colab import drive\n",
        "drive.mount('/content/gdrive')"
      ],
      "execution_count": null,
      "outputs": [
        {
          "output_type": "stream",
          "name": "stdout",
          "text": [
            "Mounted at /content/gdrive\n"
          ]
        }
      ]
    },
    {
      "cell_type": "code",
      "metadata": {
        "id": "JTygnMX_0yM0"
      },
      "source": [
        "# Copy the dataset from Google Drive to local\n",
        "\n",
        "!cp \"/content/gdrive/My Drive/CBIS_DDSM.zip\" .\n",
        "!unzip -qq CBIS_DDSM.zip\n",
        "!rm CBIS_DDSM.zip\n",
        "cbis_path = 'CBIS_DDSM'"
      ],
      "execution_count": null,
      "outputs": []
    },
    {
      "cell_type": "code",
      "metadata": {
        "id": "Zb4q_kXo2Wz-",
        "colab": {
          "base_uri": "https://localhost:8080/"
        },
        "outputId": "4648cd9d-2006-4fe2-e764-3b5668de3090"
      },
      "source": [
        "# Import libraries\n",
        "%tensorflow_version 2.x\n",
        "\n",
        "import os\n",
        "import numpy as np\n",
        "import matplotlib.pyplot as plt\n",
        "import seaborn as sns\n",
        "import itertools\n",
        "from sklearn.metrics import confusion_matrix, roc_curve, auc, classification_report\n",
        "from tensorflow import keras\n",
        "from tensorflow.keras import layers\n",
        "from tensorflow.keras import models\n",
        "from tensorflow.keras import optimizers\n",
        "from tensorflow.keras.callbacks import EarlyStopping, ModelCheckpoint, LearningRateScheduler, Callback\n",
        "from tensorflow.keras.preprocessing.image import ImageDataGenerator\n",
        "from tensorflow.keras.optimizers import RMSprop\n",
        "from tensorflow.keras.regularizers import l2\n",
        "from tensorflow.keras.utils import plot_model\n",
        "from tensorflow.keras.utils import to_categorical"
      ],
      "execution_count": null,
      "outputs": [
        {
          "output_type": "stream",
          "name": "stdout",
          "text": [
            "Colab only includes TensorFlow 2.x; %tensorflow_version has no effect.\n"
          ]
        }
      ]
    },
    {
      "cell_type": "code",
      "source": [],
      "metadata": {
        "id": "ON_1taVhyExy"
      },
      "execution_count": null,
      "outputs": []
    },
    {
      "cell_type": "markdown",
      "metadata": {
        "id": "dKn5o0nd2c_r"
      },
      "source": [
        "# Data pre-processing"
      ]
    },
    {
      "cell_type": "code",
      "metadata": {
        "id": "wvffFA7C2bD9"
      },
      "source": [
        "def load_training():\n",
        "    \"\"\"\n",
        "    Load the training set (excluding baseline patches)\n",
        "    \"\"\"\n",
        "    images = np.load(os.path.join(cbis_path, 'numpy data', 'train_tensor.npy'))[1::2]\n",
        "    labels = np.load(os.path.join(cbis_path, 'numpy data', 'train_labels.npy'))[1::2]\n",
        "    return images, labels\n",
        "\n",
        "\n",
        "def load_testing():\n",
        "    \"\"\"\n",
        "    Load the test set (abnormalities patches and labels, no baseline)\n",
        "    \"\"\"\n",
        "    images = np.load(os.path.join(cbis_path, 'numpy data', 'public_test_tensor.npy'))[1::2]\n",
        "    labels = np.load(os.path.join(cbis_path, 'numpy data', 'public_test_labels.npy'))[1::2]\n",
        "    return images, labels\n",
        "\n",
        "\n",
        "def remap_label(l):\n",
        "    \"\"\"\n",
        "    Remap the labels to:\n",
        "        0 -> mass benign \n",
        "        1 -> mass malignant\n",
        "        2 -> calcification benign\n",
        "        3 -> calcification malignant\n",
        "    \"\"\"\n",
        "    if 1 <= l <= 4:\n",
        "        return l-1\n",
        "    else:\n",
        "        print(\"[WARN] Unrecognized label (%d)\" % l)\n",
        "        return None"
      ],
      "execution_count": null,
      "outputs": []
    },
    {
      "cell_type": "markdown",
      "metadata": {
        "id": "u_Q0cPtr3jJt"
      },
      "source": [
        "The data is prepared following these steps:\n",
        "\n",
        "\n",
        "1.   Import the training and testing data from numpy arrays\n",
        "2.   Remove the images and labels related to baseline patches (even indices in the arrays)\n",
        "3.   Adjust the labels for the classification problem, so that 0 corresponds to 'benign mass', 1 to 'malignant mass', 2 to 'bening calcification' and 3 to 'malignant calcification'\n",
        "4.   Convert the labels to categorical format, required by the categorical_crossentropy loss function\n",
        "5.   Normalize the pixels to be in the range (0-1) floating point\n",
        "6.   Shuffle the training set (and labels accordingly, of course)\n",
        "7.   Split the training data into 'training' and 'validation' subsets\n",
        "8.   Build Keras generators for training and validation data. Note that data augmentation is used from the beginning, as its value was proven in the previous notebook (Scratch_CNN_2_class)\n"
      ]
    },
    {
      "cell_type": "code",
      "metadata": {
        "id": "lkNzi8mk3j3P",
        "outputId": "1082c7ad-2bb1-471a-e8cf-85ee52ef62a8",
        "colab": {
          "base_uri": "https://localhost:8080/"
        }
      },
      "source": [
        "# Load training and test images (abnormalities only, no baseline)\n",
        "train_images, train_labels= load_training()\n",
        "test_images, test_labels= load_testing()\n",
        "\n",
        "# Number of images\n",
        "n_train_img = train_images.shape[0]\n",
        "n_test_img = test_images.shape[0]\n",
        "print(\"Train size: %d \\t Test size: %d\" % (n_train_img, n_test_img))\n",
        "\n",
        "# Compute width and height of images\n",
        "img_w = train_images.shape[1]\n",
        "img_h = train_images.shape[2]\n",
        "print(\"Image size: %dx%d\" % (img_w, img_h))\n",
        "\n",
        "# Remap labels\n",
        "train_labels = np.array([remap_label(l) for l in train_labels])\n",
        "test_labels = np.array([remap_label(l) for l in test_labels])\n",
        "\n",
        "# Convert the labels to categorical format\n",
        "train_labels = to_categorical(train_labels)\n",
        "test_labels_raw = test_labels.copy()\n",
        "test_labels = to_categorical(test_labels)\n",
        "\n",
        "# Create a new dimension for color in the images arrays\n",
        "train_images = train_images.reshape((n_train_img, img_w, img_h, 1))\n",
        "test_images = test_images.reshape((n_test_img, img_w, img_h, 1))\n",
        "\n",
        "# Convert from 16-bit (0-65535) to float (0-1)\n",
        "train_images = train_images.astype('uint16') / 65535\n",
        "test_images = test_images.astype('uint16') / 65535\n",
        "\n",
        "# Shuffle the training set (originally sorted by label)\n",
        "perm = np.random.permutation(n_train_img)\n",
        "train_images = train_images[perm]\n",
        "train_labels = train_labels[perm]\n",
        "\n",
        "# Create a generator for training images\n",
        "train_datagen = ImageDataGenerator(\n",
        "    validation_split=0.2,\n",
        "    rotation_range=180,\n",
        "    shear_range=10,\n",
        "    zoom_range=0.2,\n",
        "    horizontal_flip=True,\n",
        "    vertical_flip=True,\n",
        "    fill_mode='reflect'\n",
        ")\n",
        "\n",
        "# Fit the generator with some images\n",
        "train_datagen.fit(train_images)\n",
        "\n",
        "# Split train images into actual training and validation\n",
        "train_generator = train_datagen.flow(train_images, train_labels, batch_size=128, subset='training')\n",
        "validation_generator = train_datagen.flow(train_images, train_labels, batch_size=128, subset='validation')"
      ],
      "execution_count": null,
      "outputs": [
        {
          "output_type": "stream",
          "name": "stdout",
          "text": [
            "Train size: 2676 \t Test size: 336\n",
            "Image size: 150x150\n"
          ]
        }
      ]
    },
    {
      "cell_type": "code",
      "metadata": {
        "id": "RDplDtnJ6Tl9",
        "outputId": "fdd1d218-8fe6-4ee2-f11b-7110e402f96b",
        "colab": {
          "base_uri": "https://localhost:8080/",
          "height": 286
        }
      },
      "source": [
        "# Visualize one image from the dataset and its label, just to make sure the data format is correct\n",
        "\n",
        "idx = 0\n",
        "\n",
        "plt.imshow(train_images[idx][:,:,0], cmap='gray')\n",
        "plt.show()\n",
        "\n",
        "print(\"Label: \" + str(train_labels[idx]))"
      ],
      "execution_count": null,
      "outputs": [
        {
          "output_type": "display_data",
          "data": {
            "text/plain": [
              "<Figure size 432x288 with 1 Axes>"
            ],
            "image/png": "[encoded data removed]"
          },
          "metadata": {
            "needs_background": "light"
          }
        },
        {
          "output_type": "stream",
          "name": "stdout",
          "text": [
            "Label: [0. 0. 1. 0.]\n"
          ]
        }
      ]
    },
    {
      "cell_type": "markdown",
      "metadata": {
        "id": "46axQ5Fo6aLL"
      },
      "source": [
        "# Classification"
      ]
    },
    {
      "cell_type": "markdown",
      "metadata": {
        "id": "vQWmPE116hT0"
      },
      "source": [
        "The task is quite similar to the one addressed in another notebook (Scratch_CNN_2_class), but slightly more complex because here are 4 classes instead than 2. Not only it is important to distinguish between masses and calcifications, but also to diagnose whether the abnormality is benign or malignant."
      ]
    },
    {
      "cell_type": "markdown",
      "metadata": {
        "id": "QoxlYfAu-cnu"
      },
      "source": [
        "## Experiment 1"
      ]
    },
    {
      "cell_type": "markdown",
      "metadata": {
        "id": "XkZGkkX6-kRk"
      },
      "source": [
        "The model that achieved the best performance in the two-class classification is a good starting point for sure, since both tasks partially overlap and they work on the same dataset.\n",
        "That CNN had an accuracy above 88\\% on the test set.\n",
        "Of course, some modifications are required, especially in the output layer, because the problem is now a multiclass classification: 4 softmax neurons replace the old sigmoid unit.\n",
        "Likewise, the loss function is now the categorical crossentropy, a generalized version of binary crossentropy."
      ]
    },
    {
      "cell_type": "code",
      "metadata": {
        "id": "3iCdo4qC6bWM",
        "outputId": "6ed40ca8-c937-427c-a53d-2e3aa4c36477",
        "colab": {
          "base_uri": "https://localhost:8080/"
        }
      },
      "source": [
        "# Model 1\n",
        "\n",
        "model_1 = models.Sequential()\n",
        "model_1.add(layers.Conv2D(32, (3, 3), activation='relu', input_shape=(150, 150, 1)))\n",
        "model_1.add(layers.MaxPooling2D((2, 2)))\n",
        "model_1.add(layers.Conv2D(64, (3, 3), activation='relu'))\n",
        "model_1.add(layers.MaxPooling2D((2, 2)))\n",
        "model_1.add(layers.Conv2D(128, (3, 3), activation='relu'))\n",
        "model_1.add(layers.MaxPooling2D((2, 2)))\n",
        "model_1.add(layers.Conv2D(256, (3, 3), activation='relu'))\n",
        "model_1.add(layers.MaxPooling2D((2, 2)))\n",
        "model_1.add(layers.Conv2D(256, (3, 3), activation='relu'))\n",
        "model_1.add(layers.MaxPooling2D((2, 2)))\n",
        "model_1.add(layers.Dropout(0.5))\n",
        "model_1.add(layers.Flatten())\n",
        "model_1.add(layers.Dense(48, activation='relu'))\n",
        "model_1.add(layers.Dropout(0.5))\n",
        "model_1.add(layers.Dense(4, activation='softmax'))\n",
        "\n",
        "model_1.summary()"
      ],
      "execution_count": null,
      "outputs": [
        {
          "output_type": "stream",
          "name": "stdout",
          "text": [
            "Model: \"sequential\"\n",
            "_________________________________________________________________\n",
            " Layer (type)                Output Shape              Param #   \n",
            "=================================================================\n",
            " conv2d (Conv2D)             (None, 148, 148, 32)      320       \n",
            "                                                                 \n",
            " max_pooling2d (MaxPooling2D  (None, 74, 74, 32)       0         \n",
            " )                                                               \n",
            "                                                                 \n",
            " conv2d_1 (Conv2D)           (None, 72, 72, 64)        18496     \n",
            "                                                                 \n",
            " max_pooling2d_1 (MaxPooling  (None, 36, 36, 64)       0         \n",
            " 2D)                                                             \n",
            "                                                                 \n",
            " conv2d_2 (Conv2D)           (None, 34, 34, 128)       73856     \n",
            "                                                                 \n",
            " max_pooling2d_2 (MaxPooling  (None, 17, 17, 128)      0         \n",
            " 2D)                                                             \n",
            "                                                                 \n",
            " conv2d_3 (Conv2D)           (None, 15, 15, 256)       295168    \n",
            "                                                                 \n",
            " max_pooling2d_3 (MaxPooling  (None, 7, 7, 256)        0         \n",
            " 2D)                                                             \n",
            "                                                                 \n",
            " conv2d_4 (Conv2D)           (None, 5, 5, 256)         590080    \n",
            "                                                                 \n",
            " max_pooling2d_4 (MaxPooling  (None, 2, 2, 256)        0         \n",
            " 2D)                                                             \n",
            "                                                                 \n",
            " dropout (Dropout)           (None, 2, 2, 256)         0         \n",
            "                                                                 \n",
            " flatten (Flatten)           (None, 1024)              0         \n",
            "                                                                 \n",
            " dense (Dense)               (None, 48)                49200     \n",
            "                                                                 \n",
            " dropout_1 (Dropout)         (None, 48)                0         \n",
            "                                                                 \n",
            " dense_1 (Dense)             (None, 4)                 196       \n",
            "                                                                 \n",
            "=================================================================\n",
            "Total params: 1,027,316\n",
            "Trainable params: 1,027,316\n",
            "Non-trainable params: 0\n",
            "_________________________________________________________________\n"
          ]
        }
      ]
    },
    {
      "cell_type": "code",
      "metadata": {
        "id": "JjG0h4Ij_9v9",
        "outputId": "bc5d4ba1-3f0a-4463-8c93-52c8126e0cc6",
        "colab": {
          "base_uri": "https://localhost:8080/"
        }
      },
      "source": [
        "# Early stopping (stop training after the validation loss reaches the minimum)\n",
        "earlystopping = EarlyStopping(monitor='val_loss', mode='min', patience=80, verbose=1)\n",
        "\n",
        "# Callback for checkpointing\n",
        "checkpoint = ModelCheckpoint('model_1_4cl_best.h5', \n",
        "        monitor='val_loss', mode='min', verbose=1, \n",
        "        save_best_only=True, save_freq='epoch'\n",
        ")\n",
        "\n",
        "# Compile the model\n",
        "model_1.compile(optimizer=RMSprop(learning_rate=0.001, decay=1e-3), loss='categorical_crossentropy', metrics=['accuracy'])\n",
        "\n",
        "# Train\n",
        "history_1 = model_1.fit_generator(\n",
        "        train_generator,\n",
        "        steps_per_epoch=int(0.8*n_train_img) // 128,\n",
        "        epochs=1,\n",
        "        validation_data=validation_generator,\n",
        "        callbacks=[checkpoint, earlystopping],\n",
        "        shuffle=True,\n",
        "        verbose=1,\n",
        "        initial_epoch=0\n",
        ")\n",
        "\n",
        "# Save\n",
        "models.save_model(model_1, 'model_1_4cl_end.h5')\n",
        "!cp model* \"/content/gdrive/My Drive/models/\""
      ],
      "execution_count": null,
      "outputs": [
        {
          "output_type": "stream",
          "name": "stderr",
          "text": [
            "<ipython-input-11-ca3838d63a29>:14: UserWarning: `Model.fit_generator` is deprecated and will be removed in a future version. Please use `Model.fit`, which supports generators.\n",
            "  history_1 = model_1.fit_generator(\n"
          ]
        },
        {
          "output_type": "stream",
          "name": "stdout",
          "text": [
            "16/16 [==============================] - ETA: 0s - loss: 1.3924 - accuracy: 0.3472\n",
            "Epoch 1: val_loss improved from inf to 1.35550, saving model to model_1_4cl_best.h5\n",
            "16/16 [==============================] - 6s 320ms/step - loss: 1.3924 - accuracy: 0.3472 - val_loss: 1.3555 - val_accuracy: 0.3607\n",
            "cp: target '/content/gdrive/My Drive/models/' is not a directory\n"
          ]
        }
      ]
    },
    {
      "cell_type": "code",
      "metadata": {
        "id": "8hYD0cj0FIlv",
        "outputId": "e3b784d5-6af1-4311-e7f3-0de87be0177c",
        "colab": {
          "base_uri": "https://localhost:8080/"
        }
      },
      "source": [
        "# History of accuracy and loss\n",
        "tra_loss_1 = history_1.history['loss']\n",
        "tra_acc_1 = history_1.history['accuracy']\n",
        "val_loss_1 = history_1.history['val_loss']\n",
        "val_acc_1 = history_1.history['val_accuracy']\n",
        "\n",
        "# Total number of epochs training\n",
        "epochs_1 = range(1, len(tra_acc_1)+1)\n",
        "end_epoch_1 = len(tra_acc_1)\n",
        "\n",
        "# Epoch when reached the validation loss minimum\n",
        "opt_epoch_1 = val_loss_1.index(min(val_loss_1)) + 1\n",
        "\n",
        "# Loss and accuracy on the validation set\n",
        "end_val_loss_1 = val_loss_1[-1]\n",
        "end_val_acc_1 = val_acc_1[-1]\n",
        "opt_val_loss_1 = val_loss_1[opt_epoch_1-1]\n",
        "opt_val_acc_1 = val_acc_1[opt_epoch_1-1]\n",
        "\n",
        "# Loss and accuracy on the test set\n",
        "opt_model_1 = models.load_model('model_1_4cl_best.h5')\n",
        "test_loss_1, test_acc_1 = model_1.evaluate(test_images, test_labels, verbose=False)\n",
        "opt_test_loss_1, opt_test_acc_1 = opt_model_1.evaluate(test_images, test_labels, verbose=False)\n",
        "opt_pred_1 = opt_model_1.predict(test_images)\n",
        "pred_classes_1 = np.rint(opt_pred_1)\n",
        "\n",
        "print(\"Model 1\\n\")\n",
        "\n",
        "print(\"Epoch [end]: %d\" % end_epoch_1)\n",
        "print(\"Epoch [opt]: %d\" % opt_epoch_1)\n",
        "print(\"Valid accuracy [end]: %.4f\" % end_val_acc_1)\n",
        "print(\"Valid accuracy [opt]: %.4f\" % opt_val_acc_1)\n",
        "print(\"Test accuracy [end]:  %.4f\" % test_acc_1)\n",
        "print(\"Test accuracy [opt]:  %.4f\" % opt_test_acc_1)\n",
        "print(\"Valid loss [end]: %.4f\" % end_val_loss_1)\n",
        "print(\"Valid loss [opt]: %.4f\" % opt_val_loss_1)\n",
        "print(\"Test loss [end]:  %.4f\" % test_loss_1)\n",
        "print(\"Test loss [opt]:  %.4f\" % opt_test_loss_1)\n",
        "\n",
        "print(classification_report(test_labels, pred_classes_1, digits=4))"
      ],
      "execution_count": null,
      "outputs": [
        {
          "output_type": "stream",
          "name": "stdout",
          "text": [
            "11/11 [==============================] - 0s 11ms/step\n",
            "Model 1\n",
            "\n",
            "Epoch [end]: 1\n",
            "Epoch [opt]: 1\n",
            "Valid accuracy [end]: 0.3607\n",
            "Valid accuracy [opt]: 0.3607\n",
            "Test accuracy [end]:  0.3155\n",
            "Test accuracy [opt]:  0.3155\n",
            "Valid loss [end]: 1.3555\n",
            "Valid loss [opt]: 1.3555\n",
            "Test loss [end]:  1.3780\n",
            "Test loss [opt]:  1.3780\n",
            "              precision    recall  f1-score   support\n",
            "\n",
            "           0     0.0000    0.0000    0.0000       113\n",
            "           1     0.0000    0.0000    0.0000        66\n",
            "           2     0.5000    0.0472    0.0862       106\n",
            "           3     0.0000    0.0000    0.0000        51\n",
            "\n",
            "   micro avg     0.5000    0.0149    0.0289       336\n",
            "   macro avg     0.1250    0.0118    0.0216       336\n",
            "weighted avg     0.1577    0.0149    0.0272       336\n",
            " samples avg     0.0149    0.0149    0.0149       336\n",
            "\n"
          ]
        },
        {
          "output_type": "stream",
          "name": "stderr",
          "text": [
            "/usr/local/lib/python3.8/dist-packages/sklearn/metrics/_classification.py:1318: UndefinedMetricWarning: Precision and F-score are ill-defined and being set to 0.0 in labels with no predicted samples. Use `zero_division` parameter to control this behavior.\n",
            "  _warn_prf(average, modifier, msg_start, len(result))\n",
            "/usr/local/lib/python3.8/dist-packages/sklearn/metrics/_classification.py:1318: UndefinedMetricWarning: Precision and F-score are ill-defined and being set to 0.0 in samples with no predicted labels. Use `zero_division` parameter to control this behavior.\n",
            "  _warn_prf(average, modifier, msg_start, len(result))\n"
          ]
        }
      ]
    },
    {
      "cell_type": "code",
      "metadata": {
        "id": "djXJO9l1FX5E",
        "outputId": "f32a098c-e623-4e8a-ae81-5ee2dc49df2e",
        "colab": {
          "base_uri": "https://localhost:8080/",
          "height": 991
        }
      },
      "source": [
        "# Model accuracy\n",
        "plt.figure(figsize=(7, 7), dpi=80, facecolor='w', edgecolor='k')\n",
        "plt.title('Model 1 accuracy')\n",
        "plt.ylabel('Accuracy')\n",
        "plt.xlabel('Epoch')\n",
        "plt.plot(epochs_1, tra_acc_1, 'r', label='Training set')\n",
        "plt.plot(epochs_1, val_acc_1, 'g', label='Validation set')\n",
        "plt.plot(opt_epoch_1, val_acc_1[opt_epoch_1-1], 'go')\n",
        "plt.vlines(opt_epoch_1, min(val_acc_1), opt_val_acc_1, linestyle=\"dashed\", color='g', linewidth=1)\n",
        "plt.hlines(opt_val_acc_1, 1, opt_epoch_1, linestyle=\"dashed\", color='g', linewidth=1)\n",
        "plt.legend(loc='lower right')\n",
        "\n",
        "# Model loss\n",
        "plt.figure(figsize=(7, 7), dpi=80, facecolor='w', edgecolor='k')\n",
        "plt.title('Model 1 loss')\n",
        "plt.ylabel('Loss')\n",
        "plt.xlabel('Epoch')\n",
        "plt.plot(epochs_1, tra_loss_1, 'r', label='Training set')\n",
        "plt.plot(epochs_1, val_loss_1, 'g', label='Validation set')\n",
        "plt.plot(opt_epoch_1, val_loss_1[opt_epoch_1-1], 'go')\n",
        "plt.vlines(opt_epoch_1, min(val_loss_1), opt_val_loss_1, linestyle=\"dashed\", color='g', linewidth=1)\n",
        "plt.hlines(opt_val_loss_1, 1, opt_epoch_1, linestyle=\"dashed\", color='g', linewidth=1)\n",
        "plt.legend();"
      ],
      "execution_count": null,
      "outputs": [
        {
          "output_type": "display_data",
          "data": {
            "text/plain": [
              "<Figure size 560x560 with 1 Axes>"
            ],
            "image/png": "[encoded data removed]"
          },
          "metadata": {}
        },
        {
          "output_type": "display_data",
          "data": {
            "text/plain": [
              "<Figure size 560x560 with 1 Axes>"
            ],
            "image/png": "[encoded data removed]"
          },
          "metadata": {}
        }
      ]
    },
    {
      "cell_type": "code",
      "metadata": {
        "id": "Y1210CcFGLct"
      },
      "source": [
        "def plot_confusion_matrix(cm, classes, normalize=False, title='Confusion matrix', cmap=plt.cm.Blues):\n",
        "\n",
        "    plt.imshow(cm, interpolation='nearest', cmap=cmap)\n",
        "    plt.title(title)\n",
        "    plt.colorbar()\n",
        "    tick_marks = np.arange(len(classes))\n",
        "    plt.xticks(tick_marks, classes, rotation=45)\n",
        "    plt.yticks(tick_marks, classes)\n",
        "\n",
        "    if normalize:\n",
        "        cm = cm.astype('float') / cm.sum(axis=1)[:, np.newaxis]\n",
        "\n",
        "    thresh = cm.max() / 2.\n",
        "    for i, j in itertools.product(range(cm.shape[0]), range(cm.shape[1])):\n",
        "        plt.text(j, i, cm[i, j],\n",
        "                 horizontalalignment=\"center\",\n",
        "                 color=\"white\" if cm[i, j] > thresh else \"black\")\n",
        "\n",
        "    plt.tight_layout()\n",
        "    plt.ylabel('True label')\n",
        "    plt.xlabel('Predicted label')"
      ],
      "execution_count": null,
      "outputs": []
    },
    {
      "cell_type": "code",
      "metadata": {
        "id": "Htb-Iic8Gk4c",
        "outputId": "837d0070-c59a-48e9-b8c9-a4bfb7802f0c",
        "colab": {
          "base_uri": "https://localhost:8080/",
          "height": 311
        }
      },
      "source": [
        "pred_1_classes = opt_model_1.predict_classes(test_images)\n",
        "confusion_mtx = confusion_matrix(test_labels_raw, pred_1_classes) \n",
        "plot_confusion_matrix(confusion_mtx, classes=range(4), title='Model 1 confusion matrix')"
      ],
      "execution_count": null,
      "outputs": [
        {
          "output_type": "display_data",
          "data": {
            "image/png": "[encoded data removed]",
            "text/plain": [
              "<Figure size 432x288 with 2 Axes>"
            ]
          },
          "metadata": {
            "tags": []
          }
        }
      ]
    },
    {
      "cell_type": "markdown",
      "metadata": {
        "id": "BqmO_dPVJQ_-"
      },
      "source": [
        "**Result**: the network obtained a 57.7% accuracy on the test set. This value is significantly lower than the almost 88% achieved in the 2-class classification task, but it is an obvious consequence of the increased number of classes. Now it is sufficient to mispredict the type OR the malignancy to consider that sample classified wrong. \n",
        "The confusion matrix provides very useful information here. Remembering how the labels were mapped to classes (documented [here](https://colab.research.google.com/drive/1frEEh7C_EQSmSiFS7FygFKI0eqybFmNb#scrollTo=u_Q0cPtr3jJt&line=11&uniqifier=1)), one may observe that 44 images were assigned the wrong type (mass/calc), that is corresponds 13.1% of the samples. In other words, ignoring the malignancy, that corresponds to a 86.3% accuracy, in line with the results achieved by the pure 2-class classifier.\n",
        "It is worth to point out that most of the mistakes are indeed due to benign/malignant misclassification, rather than mass/calcification swapping.\n",
        "Apparently, the task of predicting the harmfulness is inherently a more difficult task than identifying the type of abnormality.\n",
        "Finally, a moderate overfitting is noticeable at the end of the training."
      ]
    }
  ]
}